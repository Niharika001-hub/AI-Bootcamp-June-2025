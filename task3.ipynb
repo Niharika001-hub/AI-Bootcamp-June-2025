{
  "nbformat": 4,
  "nbformat_minor": 0,
  "metadata": {
    "colab": {
      "provenance": []
    },
    "kernelspec": {
      "name": "python3",
      "display_name": "Python 3"
    },
    "language_info": {
      "name": "python"
    }
  },
  "cells": [
    {
      "cell_type": "code",
      "execution_count": 1,
      "metadata": {
        "colab": {
          "base_uri": "https://localhost:8080/"
        },
        "id": "a3bySLhCdamG",
        "outputId": "347d874a-8980-404b-d780-3a4c1ea279e9"
      },
      "outputs": [
        {
          "output_type": "stream",
          "name": "stdout",
          "text": [
            "Choose operation:\n",
            "1. Add\n",
            "2. Subtract\n",
            "3. Multiply\n",
            "4. Divide\n",
            "Enter 1/2/3/4: 1\n",
            "Enter first number: 2\n",
            "Enter second number: 3\n",
            "Result: 5.0\n"
          ]
        }
      ],
      "source": [
        "def add(x, y):\n",
        "    return x + y\n",
        "\n",
        "def subtract(x, y):\n",
        "    return x - y\n",
        "\n",
        "def multiply(x, y):\n",
        "    return x * y\n",
        "\n",
        "def divide(x, y):\n",
        "    if y != 0:\n",
        "        return x / y\n",
        "    else:\n",
        "        return \"Cannot divide by zero\"\n",
        "\n",
        "print(\"Choose operation:\")\n",
        "print(\"1. Add\")\n",
        "print(\"2. Subtract\")\n",
        "print(\"3. Multiply\")\n",
        "print(\"4. Divide\")\n",
        "\n",
        "choice = input(\"Enter 1/2/3/4: \")\n",
        "a = float(input(\"Enter first number: \"))\n",
        "b = float(input(\"Enter second number: \"))\n",
        "\n",
        "if choice == '1':\n",
        "    print(\"Result:\", add(a, b))\n",
        "elif choice == '2':\n",
        "    print(\"Result:\", subtract(a, b))\n",
        "elif choice == '3':\n",
        "    print(\"Result:\", multiply(a, b))\n",
        "elif choice == '4':\n",
        "    print(\"Result:\", divide(a, b))\n",
        "else:\n",
        "    print(\"Invalid choice\")\n"
      ]
    }
  ]
}